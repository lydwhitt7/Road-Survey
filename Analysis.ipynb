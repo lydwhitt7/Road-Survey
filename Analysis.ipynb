{
 "cells": [
  {
   "cell_type": "code",
   "execution_count": 23,
   "id": "a69bd2dc",
   "metadata": {},
   "outputs": [],
   "source": [
    "%run data.py"
   ]
  },
  {
   "cell_type": "code",
   "execution_count": 24,
   "id": "045c2ec7",
   "metadata": {},
   "outputs": [
    {
     "data": {
      "application/vnd.microsoft.datawrangler.viewer.v0+json": {
       "columns": [
        {
         "name": "index",
         "rawType": "int64",
         "type": "integer"
        },
        {
         "name": "column",
         "rawType": "object",
         "type": "string"
        },
        {
         "name": "yes_count",
         "rawType": "int64",
         "type": "integer"
        },
        {
         "name": "no_count",
         "rawType": "int64",
         "type": "integer"
        },
        {
         "name": "unsure_count",
         "rawType": "int64",
         "type": "integer"
        },
        {
         "name": "Private",
         "rawType": "object",
         "type": "string"
        },
        {
         "name": "Surface",
         "rawType": "object",
         "type": "string"
        }
       ],
       "ref": "787ab815-db8f-4283-9413-688b7e1d95f6",
       "rows": [
        [
         "0",
         "Image_A",
         "41",
         "1",
         "1",
         "No",
         "Tarmac"
        ],
        [
         "1",
         "Image_B",
         "7",
         "33",
         "3",
         "Yes",
         "Dirt"
        ],
        [
         "2",
         "Image_C",
         "39",
         "4",
         "0",
         "Yes",
         "Tarmac"
        ],
        [
         "3",
         "Image_D",
         "36",
         "4",
         "3",
         "Yes",
         "Dirt"
        ],
        [
         "4",
         "Image_E",
         "43",
         "0",
         "0",
         "No",
         "Tarmac"
        ],
        [
         "5",
         "Image_F",
         "19",
         "22",
         "2",
         "Yes",
         "Dirt"
        ],
        [
         "6",
         "Image_G",
         "28",
         "15",
         "0",
         "Yes",
         "Tarmac"
        ],
        [
         "7",
         "Image_H",
         "37",
         "2",
         "4",
         "No",
         "Dirt"
        ]
       ],
       "shape": {
        "columns": 6,
        "rows": 8
       }
      },
      "text/html": [
       "<div>\n",
       "<style scoped>\n",
       "    .dataframe tbody tr th:only-of-type {\n",
       "        vertical-align: middle;\n",
       "    }\n",
       "\n",
       "    .dataframe tbody tr th {\n",
       "        vertical-align: top;\n",
       "    }\n",
       "\n",
       "    .dataframe thead th {\n",
       "        text-align: right;\n",
       "    }\n",
       "</style>\n",
       "<table border=\"1\" class=\"dataframe\">\n",
       "  <thead>\n",
       "    <tr style=\"text-align: right;\">\n",
       "      <th></th>\n",
       "      <th>column</th>\n",
       "      <th>yes_count</th>\n",
       "      <th>no_count</th>\n",
       "      <th>unsure_count</th>\n",
       "      <th>Private</th>\n",
       "      <th>Surface</th>\n",
       "    </tr>\n",
       "  </thead>\n",
       "  <tbody>\n",
       "    <tr>\n",
       "      <th>0</th>\n",
       "      <td>Image_A</td>\n",
       "      <td>41</td>\n",
       "      <td>1</td>\n",
       "      <td>1</td>\n",
       "      <td>No</td>\n",
       "      <td>Tarmac</td>\n",
       "    </tr>\n",
       "    <tr>\n",
       "      <th>1</th>\n",
       "      <td>Image_B</td>\n",
       "      <td>7</td>\n",
       "      <td>33</td>\n",
       "      <td>3</td>\n",
       "      <td>Yes</td>\n",
       "      <td>Dirt</td>\n",
       "    </tr>\n",
       "    <tr>\n",
       "      <th>2</th>\n",
       "      <td>Image_C</td>\n",
       "      <td>39</td>\n",
       "      <td>4</td>\n",
       "      <td>0</td>\n",
       "      <td>Yes</td>\n",
       "      <td>Tarmac</td>\n",
       "    </tr>\n",
       "    <tr>\n",
       "      <th>3</th>\n",
       "      <td>Image_D</td>\n",
       "      <td>36</td>\n",
       "      <td>4</td>\n",
       "      <td>3</td>\n",
       "      <td>Yes</td>\n",
       "      <td>Dirt</td>\n",
       "    </tr>\n",
       "    <tr>\n",
       "      <th>4</th>\n",
       "      <td>Image_E</td>\n",
       "      <td>43</td>\n",
       "      <td>0</td>\n",
       "      <td>0</td>\n",
       "      <td>No</td>\n",
       "      <td>Tarmac</td>\n",
       "    </tr>\n",
       "    <tr>\n",
       "      <th>5</th>\n",
       "      <td>Image_F</td>\n",
       "      <td>19</td>\n",
       "      <td>22</td>\n",
       "      <td>2</td>\n",
       "      <td>Yes</td>\n",
       "      <td>Dirt</td>\n",
       "    </tr>\n",
       "    <tr>\n",
       "      <th>6</th>\n",
       "      <td>Image_G</td>\n",
       "      <td>28</td>\n",
       "      <td>15</td>\n",
       "      <td>0</td>\n",
       "      <td>Yes</td>\n",
       "      <td>Tarmac</td>\n",
       "    </tr>\n",
       "    <tr>\n",
       "      <th>7</th>\n",
       "      <td>Image_H</td>\n",
       "      <td>37</td>\n",
       "      <td>2</td>\n",
       "      <td>4</td>\n",
       "      <td>No</td>\n",
       "      <td>Dirt</td>\n",
       "    </tr>\n",
       "  </tbody>\n",
       "</table>\n",
       "</div>"
      ],
      "text/plain": [
       "    column  yes_count  no_count  unsure_count Private Surface\n",
       "0  Image_A         41         1             1      No  Tarmac\n",
       "1  Image_B          7        33             3     Yes    Dirt\n",
       "2  Image_C         39         4             0     Yes  Tarmac\n",
       "3  Image_D         36         4             3     Yes    Dirt\n",
       "4  Image_E         43         0             0      No  Tarmac\n",
       "5  Image_F         19        22             2     Yes    Dirt\n",
       "6  Image_G         28        15             0     Yes  Tarmac\n",
       "7  Image_H         37         2             4      No    Dirt"
      ]
     },
     "execution_count": 24,
     "metadata": {},
     "output_type": "execute_result"
    }
   ],
   "source": [
    "Summary_Data"
   ]
  },
  {
   "cell_type": "code",
   "execution_count": 25,
   "id": "2524153f",
   "metadata": {},
   "outputs": [
    {
     "data": {
      "image/png": "[encoded data removed]",
      "text/plain": [
       "<Figure size 400x400 with 1 Axes>"
      ]
     },
     "metadata": {},
     "output_type": "display_data"
    }
   ],
   "source": [
    "row = Summary_Data.loc[Summary_Data['column'] == 'Image_H']\n",
    "values = row[['yes_count', 'no_count', 'unsure_count']].values.flatten()\n",
    "labels = ['Yes', 'No', 'Unsure']\n",
    "colors = [\"#18b627\", \"#db432e\", \"#f5bf1f\"]  # Optional: custom colors\n",
    "\n",
    "fig, ax = plt.subplots(figsize=(4, 4), facecolor='none')  # Transparent figure\n",
    "ax.set_facecolor('none')  # Transparent axes background too\n",
    "\n",
    "wedges, texts = ax.pie(\n",
    "    values,\n",
    "    labels=None,\n",
    "    colors=colors,\n",
    "    startangle=90\n",
    ")\n",
    "\n",
    "ax.set_aspect('equal')\n",
    "ax.axis('off')\n",
    "\n",
    "plt.subplots_adjust(left=0, right=1, top=1, bottom=0)  # Remove padding\n",
    "plt.show()"
   ]
  },
  {
   "cell_type": "code",
   "execution_count": null,
   "id": "32e87f33",
   "metadata": {},
   "outputs": [],
   "source": []
  }
 ],
 "metadata": {
  "kernelspec": {
   "display_name": "Python (my-python-env)",
   "language": "python",
   "name": "my-python-env"
  },
  "language_info": {
   "codemirror_mode": {
    "name": "ipython",
    "version": 3
   },
   "file_extension": ".py",
   "mimetype": "text/x-python",
   "name": "python",
   "nbconvert_exporter": "python",
   "pygments_lexer": "ipython3",
   "version": "3.11.9"
  }
 },
 "nbformat": 4,
 "nbformat_minor": 5
}
